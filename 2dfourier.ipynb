{
 "cells": [
  {
   "cell_type": "code",
   "execution_count": 2,
   "metadata": {},
   "outputs": [
    {
     "data": {
      "image/png": "[encoded data removed]",
      "text/plain": [
       "<Figure size 432x288 with 6 Axes>"
      ]
     },
     "metadata": {
      "needs_background": "light"
     },
     "output_type": "display_data"
    }
   ],
   "source": [
    "import cv2\n",
    "import numpy as np\n",
    "import random\n",
    "from matplotlib import pyplot as plt\n",
    "img = cv2.imread('./data/884cd7af00.png',0)\n",
    "img2=img[:,:10]\n",
    "img3=img[0:,91:]\n",
    "\n",
    "edge2=cv2.Canny(img2,20,40)\n",
    "edge3=cv2.Canny(img3,20,40)\n",
    "f = np.fft.fft2(img)\n",
    "fshift = np.fft.fftshift(f)\n",
    "magnitude_spectrum0 = np.abs(fshift)\n",
    "\n",
    "f = np.fft.fft2(edge3)\n",
    "fshift = np.fft.fftshift(f)\n",
    "magnitude_spectrum2 = np.abs(fshift)\n",
    "#magnitude_spectrum2=magnitude_spectrum2*(magnitude_spectrum2>600)\n",
    "f = np.fft.fft2(edge2)\n",
    "fshift = np.fft.fftshift(f)\n",
    "magnitude_spectrum = np.abs(fshift)\n",
    "#magnitude_spectrum=magnitude_spectrum*(magnitude_spectrum>600)\n",
    "plt.subplot(161),plt.imshow(img, cmap = 'gray')\n",
    "plt.subplot(162),plt.imshow(magnitude_spectrum0, cmap = 'gray')\n",
    "\n",
    "plt.subplot(163),plt.imshow(edge2, cmap = 'gray')\n",
    "plt.subplot(164),plt.imshow(magnitude_spectrum, cmap = 'gray')\n",
    "\n",
    "plt.subplot(165),plt.imshow(edge3, cmap = 'gray')\n",
    "plt.subplot(166),plt.imshow(magnitude_spectrum2, cmap = 'gray')\n",
    "\n",
    "\n",
    "plt.show()"
   ]
  },
  {
   "cell_type": "code",
   "execution_count": 3,
   "metadata": {},
   "outputs": [
    {
     "name": "stdout",
     "output_type": "stream",
     "text": [
      "27.57682593170335 80986464.67639096 3026008.0183796966\n"
     ]
    }
   ],
   "source": [
    "a=0\n",
    "b=0\n",
    "for i in range(magnitude_spectrum.shape[0]):\n",
    "    for j in range(magnitude_spectrum.shape[1]):\n",
    "        a=a+magnitude_spectrum[i,j]*((i-magnitude_spectrum.shape[0]/2)**2+(j-magnitude_spectrum.shape[1]/2)**2)**(1/2)\n",
    "        b=b+magnitude_spectrum[i,j]\n",
    "dist=a/(b-magnitude_spectrum[int(magnitude_spectrum.shape[0]/2),int(magnitude_spectrum.shape[1]/2)])\n",
    "print(dist,a,b)"
   ]
  },
  {
   "cell_type": "code",
   "execution_count": 4,
   "metadata": {},
   "outputs": [
    {
     "name": "stdout",
     "output_type": "stream",
     "text": [
      "20.37928872921317 58545097.26396141 2939329.3171938364\n"
     ]
    }
   ],
   "source": [
    "a=0\n",
    "b=0\n",
    "for i in range(magnitude_spectrum2.shape[0]):\n",
    "    for j in range(magnitude_spectrum2.shape[1]):\n",
    "        a=a+magnitude_spectrum2[i,j]*((i-magnitude_spectrum2.shape[0]/2)**2+(j-magnitude_spectrum2.shape[1]/2)**2)**(1/2)\n",
    "        b=b+magnitude_spectrum2[i,j]\n",
    "dist=a/(b-magnitude_spectrum2[int(magnitude_spectrum2.shape[0]/2),int(magnitude_spectrum2.shape[1]/2)])\n",
    "print(dist,a,b)"
   ]
  },
  {
   "cell_type": "code",
   "execution_count": 5,
   "metadata": {},
   "outputs": [
    {
     "name": "stdout",
     "output_type": "stream",
     "text": [
      "9.0 7128 792\n"
     ]
    }
   ],
   "source": [
    "a=0\n",
    "b=0\n",
    "for i in range(magnitude_spectrum.shape[0]-2):\n",
    "    for j in range(magnitude_spectrum.shape[1]-2):\n",
    "        if(magnitude_spectrum[i+1,j+1]>0):\n",
    "            b=b+1\n",
    "            for i1 in range(3):\n",
    "                for j1 in range(3):\n",
    "                    if(magnitude_spectrum[i+i1,j+j1]>0):\n",
    "                        a=a+1\n",
    "\n",
    "                    \n",
    "dens=a/b\n",
    "print(dens,a,b)"
   ]
  },
  {
   "cell_type": "code",
   "execution_count": 6,
   "metadata": {},
   "outputs": [
    {
     "name": "stdout",
     "output_type": "stream",
     "text": [
      "9.0 7128 792\n"
     ]
    }
   ],
   "source": [
    "a=0\n",
    "b=0\n",
    "for i in range(magnitude_spectrum2.shape[0]-2):\n",
    "    for j in range(magnitude_spectrum2.shape[1]-2):\n",
    "        if(magnitude_spectrum2[i+1,j+1]>0):\n",
    "            b=b+1\n",
    "            for i1 in range(3):\n",
    "                for j1 in range(3):\n",
    "                    if(magnitude_spectrum2[i+i1,j+j1]>0):\n",
    "                        a=a+1\n",
    "\n",
    "                    \n",
    "dens=a/b\n",
    "print(dens,a,b)"
   ]
  },
  {
   "cell_type": "code",
   "execution_count": null,
   "metadata": {},
   "outputs": [],
   "source": []
  }
 ],
 "metadata": {
  "kernelspec": {
   "display_name": "Python 3",
   "language": "python",
   "name": "python3"
  },
  "language_info": {
   "codemirror_mode": {
    "name": "ipython",
    "version": 3
   },
   "file_extension": ".py",
   "mimetype": "text/x-python",
   "name": "python",
   "nbconvert_exporter": "python",
   "pygments_lexer": "ipython3",
   "version": "3.7.6"
  }
 },
 "nbformat": 4,
 "nbformat_minor": 4
}
